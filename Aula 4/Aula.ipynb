{
 "cells": [
  {
   "cell_type": "code",
   "execution_count": null,
   "id": "784b7cfc",
   "metadata": {},
   "outputs": [],
   "source": [
    "import matplotlib as plt\n",
    "import pandas as pd\n",
    "import "
   ]
  }
 ],
 "metadata": {
  "language_info": {
   "name": "python"
  }
 },
 "nbformat": 4,
 "nbformat_minor": 5
}
